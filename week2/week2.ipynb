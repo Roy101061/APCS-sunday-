{
  "nbformat": 4,
  "nbformat_minor": 0,
  "metadata": {
    "colab": {
      "name": "week2.ipynb",
      "provenance": []
    },
    "kernelspec": {
      "name": "python3",
      "display_name": "Python 3"
    },
    "language_info": {
      "name": "python"
    }
  },
  "cells": [
    {
      "cell_type": "code",
      "execution_count": null,
      "metadata": {
        "colab": {
          "base_uri": "https://localhost:8080/"
        },
        "id": "cTcgKomWO2bZ",
        "outputId": "fd672971-1153-4f2b-89c2-141860938e6c"
      },
      "outputs": [
        {
          "output_type": "stream",
          "name": "stdout",
          "text": [
            "apple,banana,cherry,dragon fruit.\n",
            "CPU times: user 3 µs, sys: 0 ns, total: 3 µs\n",
            "Wall time: 7.15 µs\n"
          ]
        }
      ],
      "source": [
        "a='apple'\n",
        "b='banana'\n",
        "c='cherry'\n",
        "d='dragon fruit'\n",
        "print(a,b,c,d,sep=',',end='.\\n')\n",
        "\n",
        "%time\n"
      ]
    },
    {
      "cell_type": "code",
      "source": [
        "a=list(range(2,19,2))\n",
        "print(a)\n"
      ],
      "metadata": {
        "colab": {
          "base_uri": "https://localhost:8080/"
        },
        "id": "XQAl95OSRj4U",
        "outputId": "e7458b3d-99bc-44ec-c5b0-aca447985c75"
      },
      "execution_count": null,
      "outputs": [
        {
          "output_type": "stream",
          "name": "stdout",
          "text": [
            "[2, 4, 6, 8, 10, 12, 14, 16, 18]\n"
          ]
        }
      ]
    },
    {
      "cell_type": "code",
      "source": [
        "b=[x**2 for x in range(1,11)]\n",
        "print(b)\n"
      ],
      "metadata": {
        "colab": {
          "base_uri": "https://localhost:8080/"
        },
        "id": "CBMB-iyMTEPg",
        "outputId": "2766be1a-5af2-4bf9-ef3c-c89063aff58a"
      },
      "execution_count": null,
      "outputs": [
        {
          "output_type": "stream",
          "name": "stdout",
          "text": [
            "[1, 4, 9, 16, 25, 36, 49, 64, 81, 100]\n"
          ]
        }
      ]
    },
    {
      "cell_type": "code",
      "source": [
        "from numpy import sin\n",
        "sin(3)\n"
      ],
      "metadata": {
        "colab": {
          "base_uri": "https://localhost:8080/"
        },
        "id": "QjdtlxZ6TOCD",
        "outputId": "2b6fedc5-5bf7-4385-d52d-2b0c67c98252"
      },
      "execution_count": null,
      "outputs": [
        {
          "output_type": "execute_result",
          "data": {
            "text/plain": [
              "0.1411200080598672"
            ]
          },
          "metadata": {},
          "execution_count": 15
        }
      ]
    },
    {
      "cell_type": "code",
      "source": [
        "from numpy.random import *\n",
        "for i in range(50):\n",
        "  print(randint(1,10),end=',')\n"
      ],
      "metadata": {
        "colab": {
          "base_uri": "https://localhost:8080/"
        },
        "id": "LEXPkdUUUXff",
        "outputId": "74b96179-dded-438f-ddfa-636a71a7b27e"
      },
      "execution_count": null,
      "outputs": [
        {
          "output_type": "stream",
          "name": "stdout",
          "text": [
            "3,9,9,5,2,5,5,9,1,1,8,6,7,6,9,7,5,7,9,9,8,7,7,6,6,9,3,9,1,7,4,8,3,8,9,2,3,1,7,3,6,2,6,3,8,9,1,3,4,1,"
          ]
        }
      ]
    },
    {
      "cell_type": "code",
      "source": [
        "from numpy.random import *\n",
        "for i in range(10):\n",
        "  print(randint(1,36),end=',')\n"
      ],
      "metadata": {
        "colab": {
          "base_uri": "https://localhost:8080/"
        },
        "id": "bUZCMI20Uttd",
        "outputId": "52106a59-99d2-41b6-ae56-895bf8ac4381"
      },
      "execution_count": null,
      "outputs": [
        {
          "output_type": "stream",
          "name": "stdout",
          "text": [
            "10,13,5,23,31,13,23,24,34,19,"
          ]
        }
      ]
    },
    {
      "cell_type": "code",
      "source": [
        "age=int(input('how old are you:'))\n",
        "hasAdult=input('have audlt? True/False')\n",
        "if (age>=12) or (age>=6 and hasAdult):\n",
        "  print('you can watch the movie')\n",
        "  "
      ],
      "metadata": {
        "colab": {
          "base_uri": "https://localhost:8080/"
        },
        "id": "vXYwwuiIX4EA",
        "outputId": "d56bd4cf-68c3-425a-ab29-74ea24d1f81c"
      },
      "execution_count": null,
      "outputs": [
        {
          "output_type": "stream",
          "name": "stdout",
          "text": [
            "how old are you:12\n",
            "have audlt? True/Falsetrue\n",
            "you can watch the movie\n"
          ]
        }
      ]
    },
    {
      "cell_type": "code",
      "source": [
        "age=int(input('how old are you:'))\n",
        "if (age>=12):\n",
        "  print('you can watch the movie')\n",
        "if (age<12 and age>=6):\n",
        "  hasAdult=input('have audlt? True/False')\n",
        "  if (hasAdult):\n",
        "    print('you can watch the movie')\n"
      ],
      "metadata": {
        "colab": {
          "base_uri": "https://localhost:8080/"
        },
        "id": "rBnNwtORYwLP",
        "outputId": "29fc103b-7a7b-4274-ec67-fd8f87236a52"
      },
      "execution_count": null,
      "outputs": [
        {
          "output_type": "stream",
          "name": "stdout",
          "text": [
            "how old are you:6\n",
            "have audlt? True/Falset\n",
            "you can watch the movie\n"
          ]
        }
      ]
    },
    {
      "cell_type": "code",
      "source": [
        "# written in c++\n",
        "\n",
        "#include <iostream>\n",
        "\n",
        "using namespace std;\n",
        "\n",
        "int main(){\n",
        "    int k = 4;\n",
        "    int m = 1;\n",
        "    for (int i=1; i <=5; i++){\n",
        "        for (int j=1; j<=k; j++){\n",
        "            cout<<(\" \");\n",
        "        }\n",
        "        for (int j=1; j<=m; j++){\n",
        "            cout<<(\"*\");\n",
        "        }\n",
        "        cout<<(\"\\n\");\n",
        "        k--;\n",
        "        m=m+2;\n",
        "    }\n",
        "\n",
        "    return 0;\n",
        "}"
      ],
      "metadata": {
        "id": "eFhlGUJeZ7Pw"
      },
      "execution_count": null,
      "outputs": []
    },
    {
      "cell_type": "code",
      "source": [
        ""
      ],
      "metadata": {
        "id": "KfRGU7f8eAxW"
      },
      "execution_count": null,
      "outputs": []
    }
  ]
}